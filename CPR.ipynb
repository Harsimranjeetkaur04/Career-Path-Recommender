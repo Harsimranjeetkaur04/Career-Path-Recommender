{
  "nbformat": 4,
  "nbformat_minor": 0,
  "metadata": {
    "colab": {
      "provenance": [],
      "authorship_tag": "ABX9TyPI43zzz9FWMfyNOK2nNssc",
      "include_colab_link": true
    },
    "kernelspec": {
      "name": "python3",
      "display_name": "Python 3"
    },
    "language_info": {
      "name": "python"
    }
  },
  "cells": [
    {
      "cell_type": "markdown",
      "metadata": {
        "id": "view-in-github",
        "colab_type": "text"
      },
      "source": [
        "<a href=\"https://colab.research.google.com/github/Harsimranjeetkaur04/Career-Path-Recommender/blob/main/CPR.ipynb\" target=\"_parent\"><img src=\"https://colab.research.google.com/assets/colab-badge.svg\" alt=\"Open In Colab\"/></a>"
      ]
    },
    {
      "cell_type": "markdown",
      "source": [
        "CARRER PATH RECOMMENDER"
      ],
      "metadata": {
        "id": "DMiFPo-OmlBK"
      }
    },
    {
      "cell_type": "code",
      "source": [
        "import pandas as pd\n",
        "import numpy as np\n",
        "from sklearn.cluster import KMeans\n",
        "from sklearn.preprocessing import StandardScaler\n",
        "from sklearn.metrics import silhouette_score\n",
        "\n",
        "data = pd.read_csv('/content/stud.csv')\n",
        "\n",
        "selected_features = [\n",
        "    'Drawing', 'Dancing', 'Singing', 'Sports', 'Video Game', 'Acting',\n",
        "    'Travelling', 'Gardening', 'Animals', 'Photography', 'Engeeniering',\n",
        "    'Doctor', 'Pharmisist', 'Cycling', 'Knitting', 'Director', 'Journalism',\n",
        "    'Bussiness', 'Listening Music'\n",
        "]\n",
        "features = data[selected_features]\n",
        "\n",
        "scaler = StandardScaler()\n",
        "scaled_features = scaler.fit_transform(features)\n",
        "\n",
        "kmeans = KMeans(n_clusters=5, random_state=42)\n",
        "kmeans_labels = kmeans.fit_predict(scaled_features)\n",
        "\n",
        "data['Cluster'] = kmeans_labels\n",
        "\n",
        "labels = kmeans.labels_\n",
        "\n",
        "\n",
        "sil_score = silhouette_score(scaled_features, labels)\n",
        "print(f\"Silhouette Score: {sil_score}\")\n",
        "\n",
        "\n",
        "def get_user_preferences():\n",
        "    print(\"\\nPlease enter your preferences (1 for Yes, 0 for No):\")\n",
        "    user_preferences = {}\n",
        "    for feature in selected_features:\n",
        "        while True:\n",
        "            try:\n",
        "                value = int(input(f\"Do you like {feature}? (1 for Yes, 0 for No): \"))\n",
        "                if value in [0, 1]:\n",
        "                    user_preferences[feature] = value\n",
        "                    break\n",
        "                else:\n",
        "                    print(\"Invalid input. Please enter 1 or 0.\")\n",
        "            except ValueError:\n",
        "                print(\"Invalid input. Please enter a valid number (1 or 0).\")\n",
        "    return user_preferences\n",
        "\n",
        "def recommend_career(user_preferences):\n",
        "\n",
        "    user_data = pd.DataFrame([user_preferences])\n",
        "\n",
        "    user_scaled = scaler.transform(user_data)\n",
        "\n",
        "    user_cluster = kmeans.predict(user_scaled)[0]\n",
        "\n",
        "    cluster_data = data[data['Cluster'] == user_cluster]\n",
        "\n",
        "    common_skills = cluster_data[selected_features].mode().iloc[0]\n",
        "    suggested_skills = common_skills[common_skills == 1].index.tolist()\n",
        "    suggested_course = cluster_data['Courses'].mode().values[0]\n",
        "\n",
        "    print(f\"\\nBased on your preferences, you belong to Cluster {user_cluster}.\")\n",
        "    print(f\"Suggested Skills/Interests: {suggested_skills}\")\n",
        "    print(f\"Suggested Course(s): {suggested_course}\")\n",
        "\n",
        "user_preferences = get_user_preferences()\n",
        "recommend_career(user_preferences)\n"
      ],
      "metadata": {
        "id": "hrJl6PAJyWVi",
        "colab": {
          "base_uri": "https://localhost:8080/"
        },
        "outputId": "771848d8-4061-471e-f676-6b064d5061e1"
      },
      "execution_count": null,
      "outputs": [
        {
          "output_type": "stream",
          "name": "stdout",
          "text": [
            "Silhouette Score: 0.4422755732882292\n",
            "\n",
            "Please enter your preferences (1 for Yes, 0 for No):\n",
            "Do you like Drawing? (1 for Yes, 0 for No): 0\n",
            "Do you like Dancing? (1 for Yes, 0 for No): 1\n",
            "Do you like Singing? (1 for Yes, 0 for No): 0\n",
            "Do you like Sports? (1 for Yes, 0 for No): 10\n",
            "Invalid input. Please enter 1 or 0.\n",
            "Do you like Sports? (1 for Yes, 0 for No): 0\n",
            "Do you like Video Game? (1 for Yes, 0 for No): 1\n",
            "Do you like Acting? (1 for Yes, 0 for No): 0\n",
            "Do you like Travelling? (1 for Yes, 0 for No): 0\n",
            "Do you like Gardening? (1 for Yes, 0 for No): 1\n",
            "Do you like Animals? (1 for Yes, 0 for No): 1\n",
            "Do you like Photography? (1 for Yes, 0 for No): 0\n",
            "Do you like Engeeniering? (1 for Yes, 0 for No): 1\n",
            "Do you like Doctor? (1 for Yes, 0 for No): 0\n",
            "Do you like Pharmisist? (1 for Yes, 0 for No): 1\n",
            "Do you like Cycling? (1 for Yes, 0 for No): 0\n",
            "Do you like Knitting? (1 for Yes, 0 for No): \n",
            "Invalid input. Please enter a valid number (1 or 0).\n",
            "Do you like Knitting? (1 for Yes, 0 for No): 0\n",
            "Do you like Director? (1 for Yes, 0 for No): 0\n",
            "Do you like Journalism? (1 for Yes, 0 for No): 0\n",
            "Do you like Bussiness? (1 for Yes, 0 for No): 1\n",
            "Do you like Listening Music? (1 for Yes, 0 for No): 0\n",
            "\n",
            "Based on your preferences, you belong to Cluster 0.\n",
            "Suggested Skills/Interests: []\n",
            "Suggested Course(s): BBS- Bachelor of Business Studies\n"
          ]
        }
      ]
    },
    {
      "cell_type": "code",
      "source": [],
      "metadata": {
        "id": "Xsghlgw0djTD"
      },
      "execution_count": null,
      "outputs": []
    },
    {
      "cell_type": "code",
      "source": [],
      "metadata": {
        "id": "Gs3Sl7QAksdb"
      },
      "execution_count": null,
      "outputs": []
    }
  ]
}